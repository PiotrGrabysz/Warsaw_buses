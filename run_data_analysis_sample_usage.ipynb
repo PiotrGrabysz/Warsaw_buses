{
 "cells": [
  {
   "cell_type": "code",
   "execution_count": 4,
   "id": "exposed-bearing",
   "metadata": {},
   "outputs": [
    {
     "name": "stdout",
     "output_type": "stream",
     "text": [
      "Obtaining file:///C:/Users/PiotrGrabysz/Documents/PythonScripts/NYPD/final-assignment\n",
      "Installing collected packages: Warsaw-buses\n",
      "  Attempting uninstall: Warsaw-buses\n",
      "    Found existing installation: Warsaw-buses 0.0.1\n",
      "    Uninstalling Warsaw-buses-0.0.1:\n",
      "      Successfully uninstalled Warsaw-buses-0.0.1\n",
      "  Running setup.py develop for Warsaw-buses\n",
      "Successfully installed Warsaw-buses\n"
     ]
    }
   ],
   "source": [
    "%load_ext autoreload\n",
    "%autoreload 2\n",
    "\n",
    "!pip install -e ../final-assignment/\n",
    "\n",
    "import pandas as pd"
   ]
  },
  {
   "cell_type": "code",
   "execution_count": 5,
   "id": "western-flesh",
   "metadata": {},
   "outputs": [],
   "source": [
    "from pathlib import Path\n",
    "\n",
    "dir_to_busestrams = \"../final_assignment_data/busestrams_05_02\""
   ]
  },
  {
   "cell_type": "markdown",
   "id": "separate-program",
   "metadata": {},
   "source": [
    "## Filtering the data\n",
    "\n",
    "First of all, you should filter the data. I found that sometimes the same brigade of the same line has a few timestamps describing **the same time**. Or its timestamps are not sorted in icreasing order. You can see this situation here:"
   ]
  },
  {
   "cell_type": "code",
   "execution_count": 15,
   "id": "informed-austin",
   "metadata": {},
   "outputs": [
    {
     "data": {
      "text/html": [
       "<div>\n",
       "<style scoped>\n",
       "    .dataframe tbody tr th:only-of-type {\n",
       "        vertical-align: middle;\n",
       "    }\n",
       "\n",
       "    .dataframe tbody tr th {\n",
       "        vertical-align: top;\n",
       "    }\n",
       "\n",
       "    .dataframe thead th {\n",
       "        text-align: right;\n",
       "    }\n",
       "</style>\n",
       "<table border=\"1\" class=\"dataframe\">\n",
       "  <thead>\n",
       "    <tr style=\"text-align: right;\">\n",
       "      <th></th>\n",
       "      <th>Lat</th>\n",
       "      <th>Lon</th>\n",
       "      <th>Time</th>\n",
       "    </tr>\n",
       "  </thead>\n",
       "  <tbody>\n",
       "    <tr>\n",
       "      <th>0</th>\n",
       "      <td>52.248985</td>\n",
       "      <td>21.178604</td>\n",
       "      <td>2021-02-05 20:23:09</td>\n",
       "    </tr>\n",
       "    <tr>\n",
       "      <th>1</th>\n",
       "      <td>52.252907</td>\n",
       "      <td>21.167728</td>\n",
       "      <td>2021-02-05 20:25:08</td>\n",
       "    </tr>\n",
       "    <tr>\n",
       "      <th>2</th>\n",
       "      <td>52.249443</td>\n",
       "      <td>21.177103</td>\n",
       "      <td>2021-02-05 20:23:19</td>\n",
       "    </tr>\n",
       "    <tr>\n",
       "      <th>3</th>\n",
       "      <td>52.249657</td>\n",
       "      <td>21.176409</td>\n",
       "      <td>2021-02-05 20:23:24</td>\n",
       "    </tr>\n",
       "    <tr>\n",
       "      <th>4</th>\n",
       "      <td>52.250217</td>\n",
       "      <td>21.174595</td>\n",
       "      <td>2021-02-05 20:23:39</td>\n",
       "    </tr>\n",
       "    <tr>\n",
       "      <th>5</th>\n",
       "      <td>52.255165</td>\n",
       "      <td>21.160923</td>\n",
       "      <td>2021-02-05 20:26:24</td>\n",
       "    </tr>\n",
       "    <tr>\n",
       "      <th>6</th>\n",
       "      <td>52.255329</td>\n",
       "      <td>21.159365</td>\n",
       "      <td>2021-02-05 20:26:36</td>\n",
       "    </tr>\n",
       "    <tr>\n",
       "      <th>7</th>\n",
       "      <td>52.255371</td>\n",
       "      <td>21.158566</td>\n",
       "      <td>2021-02-05 20:26:45</td>\n",
       "    </tr>\n",
       "    <tr>\n",
       "      <th>8</th>\n",
       "      <td>52.255383</td>\n",
       "      <td>21.158396</td>\n",
       "      <td>2021-02-05 20:26:56</td>\n",
       "    </tr>\n",
       "    <tr>\n",
       "      <th>9</th>\n",
       "      <td>52.250366</td>\n",
       "      <td>21.174135</td>\n",
       "      <td>2021-02-05 20:23:44</td>\n",
       "    </tr>\n",
       "  </tbody>\n",
       "</table>\n",
       "</div>"
      ],
      "text/plain": [
       "         Lat        Lon                 Time\n",
       "0  52.248985  21.178604  2021-02-05 20:23:09\n",
       "1  52.252907  21.167728  2021-02-05 20:25:08\n",
       "2  52.249443  21.177103  2021-02-05 20:23:19\n",
       "3  52.249657  21.176409  2021-02-05 20:23:24\n",
       "4  52.250217  21.174595  2021-02-05 20:23:39\n",
       "5  52.255165  21.160923  2021-02-05 20:26:24\n",
       "6  52.255329  21.159365  2021-02-05 20:26:36\n",
       "7  52.255371  21.158566  2021-02-05 20:26:45\n",
       "8  52.255383  21.158396  2021-02-05 20:26:56\n",
       "9  52.250366  21.174135  2021-02-05 20:23:44"
      ]
     },
     "execution_count": 15,
     "metadata": {},
     "output_type": "execute_result"
    }
   ],
   "source": [
    "buses_data1 = pd.read_csv(Path(dir_to_busestrams) / \"115/2/1413.txt\", names=[\"Lat\", \"Lon\", \"Time\"])\n",
    "buses_data1.head(10)"
   ]
  },
  {
   "cell_type": "markdown",
   "id": "mathematical-cooking",
   "metadata": {},
   "source": [
    "As you can see, row 2 is earlier than row 1 and row 9 is earlier than row 5, 6, 7, 8. You can check the whole data set for such problems."
   ]
  },
  {
   "cell_type": "code",
   "execution_count": 17,
   "id": "german-lesson",
   "metadata": {},
   "outputs": [
    {
     "name": "stdout",
     "output_type": "stream",
     "text": [
      "Subsequent measurements are not time monotonous!. I've found 243 incorrect files which is 18% of the total number of files. See C:\\Users\\PiotrGrabysz\\Documents\\PythonScripts\\NYPD\\final-assignment_test_installation\\is_time_monotonically_increasing_errors_log.txt for details.\n"
     ]
    }
   ],
   "source": [
    "from Warsaw_buses.process_data import filter_data\n",
    "\n",
    "filter_data.is_time_monotonically_increasing(dir_to_data=dir_to_busestrams)"
   ]
  },
  {
   "cell_type": "markdown",
   "id": "three-guess",
   "metadata": {},
   "source": [
    "One can take two approaches here. The first one is to sort the files by their timestamps. The second one is to filter out this files from further analysis.\n",
    "Because majority of files is sorted as it is downloaded from api I treat this unsorted files suspiciously and decided to filter them out. "
   ]
  },
  {
   "cell_type": "code",
   "execution_count": 39,
   "id": "informative-offering",
   "metadata": {},
   "outputs": [
    {
     "name": "stdout",
     "output_type": "stream",
     "text": [
      "The correct files are saved in the C:\\Users\\PiotrGrabysz\\Documents\\PythonScripts\\NYPD\\final-assignment_test_installation\\..\\final_assignment_data\\busestrams_05_02_filtered\n"
     ]
    }
   ],
   "source": [
    "filter_data.filter_data_from_non_monotonically_increasing_time(dir_to_data=dir_to_busestrams)\n",
    "\n",
    "dir_to_busestrams += \"_filtered\"\n",
    "print(f\"The correct files are saved in the {Path(dir_to_busestrams).absolute()}\")"
   ]
  },
  {
   "cell_type": "markdown",
   "id": "spectacular-arizona",
   "metadata": {},
   "source": [
    "## Speed analysis\n",
    "\n",
    "#### Calculating the speed from data\n",
    "\n",
    "Firstly you need to calculate the speed of buses. I decided to create a new directory instead of extending the existing directory dir_to_busestrams. The new directory's name is dir_to_busestrams suffixed with \"_with_speed\". It contains all the files from dir_to_busestrams with an additional column standing for the speed. \n",
    "\n",
    "To calculate the speed, please run run_data_analysis with a flag --calc_speed. \n",
    "\n",
    "You should also provide the directory to the busestrams files with a parameter \n",
    "\n",
    "> --dir_to_busestrams DIR_TO_BUSESTRAMS, -db DIR_TO_BUSESTRAMS\n",
    "\n",
    "                        The directory with the busestrams data."
   ]
  },
  {
   "cell_type": "code",
   "execution_count": 56,
   "id": "turned-script",
   "metadata": {},
   "outputs": [
    {
     "name": "stdout",
     "output_type": "stream",
     "text": [
      "Using buses data from the directory C:\\Users\\PiotrGrabysz\\Documents\\PythonScripts\\NYPD\\final-assignment_test_installation\\..\\final_assignment_data\\busestrams_05_02_filtered\n",
      "Using timetables data from the directory C:\\Users\\PiotrGrabysz\\Documents\\PythonScripts\\NYPD\\final-assignment_test_installation\\data\\timetables\n",
      "Using coordinates of the stops data from the directory C:\\Users\\PiotrGrabysz\\Documents\\PythonScripts\\NYPD\\final-assignment_test_installation\\data\\timetables\\stops_coord.json\n",
      "\n",
      "Starts calculating speed...\n",
      "Speed calculated and saved successfully.\n"
     ]
    }
   ],
   "source": [
    "! run_data_analysis --calc_speed -db ../final_assignment_data/busestrams_05_02_filtered"
   ]
  },
  {
   "cell_type": "markdown",
   "id": "close-benjamin",
   "metadata": {},
   "source": [
    "#### Speed statistiscs\n",
    "Once we have the speed, we can analyse it. Use a flag --speed_statistics to see some statistics. There are two parameters here:\n",
    "\n",
    "> --exceeded_speed EXCEEDED_SPEED, -s EXCEEDED_SPEED\n",
    "\n",
    "                        The program looks for the times when the speed\n",
    "                        specified here is exceeded. It is set to 50 km/h by default.\n",
    "\n",
    "\n",
    "> --outlier_speed OUTLIER_SPEED\n",
    "\n",
    "                        If specified, speeds greater than outlier_speed are\n",
    "                        not taken into consideration. It is set to 120\n",
    "                        km/h by default.\n",
    "                      \n",
    "Why is outlier_speed needed? Well, take a look at the line 523 brigade 016:"
   ]
  },
  {
   "cell_type": "code",
   "execution_count": 66,
   "id": "legislative-sessions",
   "metadata": {},
   "outputs": [
    {
     "name": "stdout",
     "output_type": "stream",
     "text": [
      "          Lat        Lon                 Time        Speed\n",
      "56  52.235382  21.078302  2021-02-05 16:26:39    28.138983\n",
      "57  52.196430  20.921320  2021-02-05 16:27:47   611.058660\n",
      "58  52.229946  21.067240  2021-02-05 16:27:59  3186.212607\n",
      "59  52.228474  21.061771  2021-02-05 16:28:41    34.884285\n",
      "60  52.196423  20.921326  2021-02-05 16:29:19   967.669224\n"
     ]
    }
   ],
   "source": [
    "buses_data = pd.read_csv(Path(dir_to_busestrams+\"_with_speed\") / \"523/016/2006.txt\", index_col=0)\n",
    "print(buses_data[55:60])"
   ]
  },
  {
   "cell_type": "markdown",
   "id": "legendary-width",
   "metadata": {},
   "source": [
    "The speed is in kilometers per hour so the speed of 3186 km/h is measured here! But it is not the bug of the algorithm: the distance between bus positions in rows 57 and 58 is **more than 10 kilometers**! And according to the data this distance was passed in 12 seconds."
   ]
  },
  {
   "cell_type": "code",
   "execution_count": 35,
   "id": "flush-mission",
   "metadata": {},
   "outputs": [
    {
     "name": "stdout",
     "output_type": "stream",
     "text": [
      "The distance between (52.19643, 20.92132) and (52.229946, 21.06724) is 10.62 km.\n"
     ]
    }
   ],
   "source": [
    "from Warsaw_buses.process_data.utils import dist\n",
    "\n",
    "print(f\"The distance between (52.19643, 20.92132) and (52.229946, 21.06724) is {dist(52.19643, 20.92132, 52.229946, 21.06724):.2f} km.\")"
   ]
  },
  {
   "cell_type": "markdown",
   "id": "israeli-guard",
   "metadata": {},
   "source": [
    "That is why I decided to set some threshold called outlier_speed. If a speed greater than the outlier_speed is measured it is just not considered. I set this to 120 km/h by default, but you can change it to whatever you want. \n",
    "\n",
    "The program reports if the speed greater than outlier speed was found anywhere. "
   ]
  },
  {
   "cell_type": "code",
   "execution_count": 67,
   "id": "dense-terry",
   "metadata": {},
   "outputs": [
    {
     "name": "stdout",
     "output_type": "stream",
     "text": [
      "Using buses data from the directory C:\\Users\\PiotrGrabysz\\Documents\\PythonScripts\\NYPD\\final-assignment_test_installation\\..\\final_assignment_data\\busestrams_05_02_filtered\n",
      "Using timetables data from the directory C:\\Users\\PiotrGrabysz\\Documents\\PythonScripts\\NYPD\\final-assignment_test_installation\\data\\timetables\n",
      "Using coordinates of the stops data from the directory C:\\Users\\PiotrGrabysz\\Documents\\PythonScripts\\NYPD\\final-assignment_test_installation\\data\\timetables\\stops_coord.json\n",
      "\n",
      "Starts calculating statistics...\n",
      "Warning! I found a bus with speed faster than 120.0 in the file ..\\final_assignment_data\\busestrams_05_02_filtered_with_speed\\102\\2\\9422.txt\n",
      "Warning! I found a bus with speed faster than 120.0 in the file ..\\final_assignment_data\\busestrams_05_02_filtered_with_speed\\105\\1\\5228.txt\n",
      "Warning! I found a bus with speed faster than 120.0 in the file ..\\final_assignment_data\\busestrams_05_02_filtered_with_speed\\106\\1\\1552.txt\n",
      "Warning! I found a bus with speed faster than 120.0 in the file ..\\final_assignment_data\\busestrams_05_02_filtered_with_speed\\110\\1\\1405.txt\n",
      "Warning! I found a bus with speed faster than 120.0 in the file ..\\final_assignment_data\\busestrams_05_02_filtered_with_speed\\110\\5\\739.txt\n",
      "Warning! I found a bus with speed faster than 120.0 in the file ..\\final_assignment_data\\busestrams_05_02_filtered_with_speed\\116\\13\\7315.txt\n",
      "Warning! I found a bus with speed faster than 120.0 in the file ..\\final_assignment_data\\busestrams_05_02_filtered_with_speed\\118\\2\\9682.txt\n",
      "Warning! I found a bus with speed faster than 120.0 in the file ..\\final_assignment_data\\busestrams_05_02_filtered_with_speed\\119\\2\\1833.txt\n",
      "Warning! I found a bus with speed faster than 120.0 in the file ..\\final_assignment_data\\busestrams_05_02_filtered_with_speed\\120\\6\\8868.txt\n",
      "Warning! I found a bus with speed faster than 120.0 in the file ..\\final_assignment_data\\busestrams_05_02_filtered_with_speed\\127\\3\\9821.txt\n",
      "Warning! I found a bus with speed faster than 120.0 in the file ..\\final_assignment_data\\busestrams_05_02_filtered_with_speed\\130\\1\\1012.txt\n",
      "Warning! I found a bus with speed faster than 120.0 in the file ..\\final_assignment_data\\busestrams_05_02_filtered_with_speed\\131\\211\\8836.txt\n",
      "Warning! I found a bus with speed faster than 120.0 in the file ..\\final_assignment_data\\busestrams_05_02_filtered_with_speed\\132\\06\\5421.txt\n",
      "Warning! I found a bus with speed faster than 120.0 in the file ..\\final_assignment_data\\busestrams_05_02_filtered_with_speed\\133\\1\\9201.txt\n",
      "Warning! I found a bus with speed faster than 120.0 in the file ..\\final_assignment_data\\busestrams_05_02_filtered_with_speed\\134\\3\\1403.txt\n",
      "Warning! I found a bus with speed faster than 120.0 in the file ..\\final_assignment_data\\busestrams_05_02_filtered_with_speed\\136\\11\\8179.txt\n",
      "Warning! I found a bus with speed faster than 120.0 in the file ..\\final_assignment_data\\busestrams_05_02_filtered_with_speed\\138\\012\\8841.txt\n",
      "Warning! I found a bus with speed faster than 120.0 in the file ..\\final_assignment_data\\busestrams_05_02_filtered_with_speed\\138\\2\\8320.txt\n",
      "Warning! I found a bus with speed faster than 120.0 in the file ..\\final_assignment_data\\busestrams_05_02_filtered_with_speed\\142\\5\\9317.txt\n",
      "Warning! I found a bus with speed faster than 120.0 in the file ..\\final_assignment_data\\busestrams_05_02_filtered_with_speed\\143\\1\\8574.txt\n",
      "Warning! I found a bus with speed faster than 120.0 in the file ..\\final_assignment_data\\busestrams_05_02_filtered_with_speed\\143\\4\\8230.txt\n",
      "Warning! I found a bus with speed faster than 120.0 in the file ..\\final_assignment_data\\busestrams_05_02_filtered_with_speed\\145\\1\\8300.txt\n",
      "Warning! I found a bus with speed faster than 120.0 in the file ..\\final_assignment_data\\busestrams_05_02_filtered_with_speed\\145\\3\\8369.txt\n",
      "Warning! I found a bus with speed faster than 120.0 in the file ..\\final_assignment_data\\busestrams_05_02_filtered_with_speed\\145\\7\\8326.txt\n",
      "Warning! I found a bus with speed faster than 120.0 in the file ..\\final_assignment_data\\busestrams_05_02_filtered_with_speed\\146\\4\\1520.txt\n",
      "Warning! I found a bus with speed faster than 120.0 in the file ..\\final_assignment_data\\busestrams_05_02_filtered_with_speed\\147\\010\\1852.txt\n",
      "Warning! I found a bus with speed faster than 120.0 in the file ..\\final_assignment_data\\busestrams_05_02_filtered_with_speed\\148\\012\\8886.txt\n",
      "Warning! I found a bus with speed faster than 120.0 in the file ..\\final_assignment_data\\busestrams_05_02_filtered_with_speed\\154\\6\\4230.txt\n",
      "Warning! I found a bus with speed faster than 120.0 in the file ..\\final_assignment_data\\busestrams_05_02_filtered_with_speed\\157\\3\\9433.txt\n",
      "Warning! I found a bus with speed faster than 120.0 in the file ..\\final_assignment_data\\busestrams_05_02_filtered_with_speed\\162\\4\\8348.txt\n",
      "Warning! I found a bus with speed faster than 120.0 in the file ..\\final_assignment_data\\busestrams_05_02_filtered_with_speed\\166\\1\\1215.txt\n",
      "Warning! I found a bus with speed faster than 120.0 in the file ..\\final_assignment_data\\busestrams_05_02_filtered_with_speed\\166\\8\\1111.txt\n",
      "Warning! I found a bus with speed faster than 120.0 in the file ..\\final_assignment_data\\busestrams_05_02_filtered_with_speed\\168\\6\\8166.txt\n",
      "Warning! I found a bus with speed faster than 120.0 in the file ..\\final_assignment_data\\busestrams_05_02_filtered_with_speed\\173\\10\\1813.txt\n",
      "Warning! I found a bus with speed faster than 120.0 in the file ..\\final_assignment_data\\busestrams_05_02_filtered_with_speed\\178\\5\\1222.txt\n",
      "Warning! I found a bus with speed faster than 120.0 in the file ..\\final_assignment_data\\busestrams_05_02_filtered_with_speed\\182\\3\\8357.txt\n",
      "Warning! I found a bus with speed faster than 120.0 in the file ..\\final_assignment_data\\busestrams_05_02_filtered_with_speed\\183\\2\\1828.txt\n",
      "Warning! I found a bus with speed faster than 120.0 in the file ..\\final_assignment_data\\busestrams_05_02_filtered_with_speed\\189\\9\\8156.txt\n",
      "Warning! I found a bus with speed faster than 120.0 in the file ..\\final_assignment_data\\busestrams_05_02_filtered_with_speed\\190\\10\\5222.txt\n",
      "Warning! I found a bus with speed faster than 120.0 in the file ..\\final_assignment_data\\busestrams_05_02_filtered_with_speed\\195\\2\\1030.txt\n",
      "Warning! I found a bus with speed faster than 120.0 in the file ..\\final_assignment_data\\busestrams_05_02_filtered_with_speed\\199\\1\\1819.txt\n",
      "Warning! I found a bus with speed faster than 120.0 in the file ..\\final_assignment_data\\busestrams_05_02_filtered_with_speed\\199\\3\\1541.txt\n",
      "Warning! I found a bus with speed faster than 120.0 in the file ..\\final_assignment_data\\busestrams_05_02_filtered_with_speed\\311\\2\\1011.txt\n",
      "Warning! I found a bus with speed faster than 120.0 in the file ..\\final_assignment_data\\busestrams_05_02_filtered_with_speed\\317\\4\\6223.txt\n",
      "Warning! I found a bus with speed faster than 120.0 in the file ..\\final_assignment_data\\busestrams_05_02_filtered_with_speed\\401\\9\\7203.txt\n",
      "Warning! I found a bus with speed faster than 120.0 in the file ..\\final_assignment_data\\busestrams_05_02_filtered_with_speed\\402\\014\\8239.txt\n",
      "Warning! I found a bus with speed faster than 120.0 in the file ..\\final_assignment_data\\busestrams_05_02_filtered_with_speed\\402\\8\\8123.txt\n",
      "Warning! I found a bus with speed faster than 120.0 in the file ..\\final_assignment_data\\busestrams_05_02_filtered_with_speed\\500\\2\\3403.txt\n",
      "Warning! I found a bus with speed faster than 120.0 in the file ..\\final_assignment_data\\busestrams_05_02_filtered_with_speed\\501\\4\\8818.txt\n",
      "Warning! I found a bus with speed faster than 120.0 in the file ..\\final_assignment_data\\busestrams_05_02_filtered_with_speed\\503\\2\\8894.txt\n",
      "Warning! I found a bus with speed faster than 120.0 in the file ..\\final_assignment_data\\busestrams_05_02_filtered_with_speed\\503\\8\\5946.txt\n",
      "Warning! I found a bus with speed faster than 120.0 in the file ..\\final_assignment_data\\busestrams_05_02_filtered_with_speed\\504\\220\\8102.txt\n",
      "Warning! I found a bus with speed faster than 120.0 in the file ..\\final_assignment_data\\busestrams_05_02_filtered_with_speed\\504\\4\\2036.txt\n",
      "Warning! I found a bus with speed faster than 120.0 in the file ..\\final_assignment_data\\busestrams_05_02_filtered_with_speed\\504\\6\\8522.txt\n",
      "Warning! I found a bus with speed faster than 120.0 in the file ..\\final_assignment_data\\busestrams_05_02_filtered_with_speed\\507\\1\\8334.txt\n",
      "Warning! I found a bus with speed faster than 120.0 in the file ..\\final_assignment_data\\busestrams_05_02_filtered_with_speed\\507\\3\\7307.txt\n",
      "Warning! I found a bus with speed faster than 120.0 in the file ..\\final_assignment_data\\busestrams_05_02_filtered_with_speed\\509\\1\\3444.txt\n",
      "Warning! I found a bus with speed faster than 120.0 in the file ..\\final_assignment_data\\busestrams_05_02_filtered_with_speed\\509\\13\\8865.txt\n",
      "Warning! I found a bus with speed faster than 120.0 in the file ..\\final_assignment_data\\busestrams_05_02_filtered_with_speed\\511\\07\\3350.txt\n",
      "Warning! I found a bus with speed faster than 120.0 in the file ..\\final_assignment_data\\busestrams_05_02_filtered_with_speed\\512\\3\\3422.txt\n",
      "Warning! I found a bus with speed faster than 120.0 in the file ..\\final_assignment_data\\busestrams_05_02_filtered_with_speed\\514\\2\\8310.txt\n",
      "Warning! I found a bus with speed faster than 120.0 in the file ..\\final_assignment_data\\busestrams_05_02_filtered_with_speed\\519\\3\\8177.txt\n",
      "Warning! I found a bus with speed faster than 120.0 in the file ..\\final_assignment_data\\busestrams_05_02_filtered_with_speed\\522\\1\\8801.txt\n",
      "Warning! I found a bus with speed faster than 120.0 in the file ..\\final_assignment_data\\busestrams_05_02_filtered_with_speed\\523\\016\\2006.txt\n",
      "Warning! I found a bus with speed faster than 120.0 in the file ..\\final_assignment_data\\busestrams_05_02_filtered_with_speed\\523\\11\\8311.txt\n",
      "Warning! I found a bus with speed faster than 120.0 in the file ..\\final_assignment_data\\busestrams_05_02_filtered_with_speed\\523\\14\\5238.txt\n",
      "Warning! I found a bus with speed faster than 120.0 in the file ..\\final_assignment_data\\busestrams_05_02_filtered_with_speed\\709\\9\\2030.txt\n",
      "Warning! I found a bus with speed faster than 120.0 in the file ..\\final_assignment_data\\busestrams_05_02_filtered_with_speed\\721\\02\\5205.txt\n",
      "Warning! I found a bus with speed faster than 120.0 in the file ..\\final_assignment_data\\busestrams_05_02_filtered_with_speed\\731\\62\\3457.txt\n",
      "Warning! I found a bus with speed faster than 120.0 in the file ..\\final_assignment_data\\busestrams_05_02_filtered_with_speed\\733\\01\\8515.txt\n",
      "Warning! I found a bus with speed faster than 120.0 in the file ..\\final_assignment_data\\busestrams_05_02_filtered_with_speed\\738\\4\\3353.txt\n",
      "\n",
      "Speed statistics:\n",
      "--------------------\n",
      "Maximal measured speed: 119.78593998875796\n",
      "Percent of times when any bus exceeds 50.0 km/h vs all measurements is 3.47%.\n",
      "--------------------\n"
     ]
    }
   ],
   "source": [
    "! run_data_analysis --speed_statistics \\\n",
    "--outlier_speed 120 \\\n",
    "-db ../final_assignment_data/busestrams_05_02_filtered"
   ]
  },
  {
   "cell_type": "markdown",
   "id": "activated-storm",
   "metadata": {},
   "source": [
    "#### Locations with significant percent of buses exceeding the speed\n",
    "\n",
    "Run the command run_data_analysis with a flag --speed_locations and these parameters:\n",
    "\n",
    "> --exceeded_speed EXCEEDED_SPEED, -s EXCEEDED_SPEED\n",
    "\n",
    "                        The program looks for the times when the speed\n",
    "                        specified here is exceeded. It is set to 50 km/h by\n",
    "                        default.It is used in speed_statistics() and\n",
    "                        exceeding_the_speed_location().\n",
    "                        \n",
    ">  --outlier_speed OUTLIER_SPEED\n",
    "  \n",
    "                        If specified, speeds greater than outlier_speed are\n",
    "                        not taken into consideration. It is set to 120 km/h by\n",
    "                        default.\n",
    "                        \n",
    ">  --round_to ROUND_TO   \n",
    "  \n",
    "                        The notion of an exceeding location is rounded up to\n",
    "                        round_to decimal places. It is set to 2 by default.\n",
    "                        \n",
    "\n",
    "The program looks for every point where the bus speed is greater than the speed specified by the user (but smaller than the outlier_speed). Then the latitude and longitude of this point is rounded up to round_to decimal places which means that the Warsaw map is devided into rectangles.\n",
    "\n",
    "The program returns five locations where the ratio of measurements with speed greater than the exceeding_speed to number of all measurements taken in this locations is highest."
   ]
  },
  {
   "cell_type": "code",
   "execution_count": 46,
   "id": "severe-recording",
   "metadata": {},
   "outputs": [
    {
     "name": "stdout",
     "output_type": "stream",
     "text": [
      "Using buses data from the directory C:\\Users\\PiotrGrabysz\\Documents\\PythonScripts\\NYPD\\final-assignment_test_installation\\..\\final_assignment_data\\busestrams_05_02_filtered\n",
      "Using timetables data from the directory C:\\Users\\PiotrGrabysz\\Documents\\PythonScripts\\NYPD\\final-assignment_test_installation\\data\\timetables\n",
      "Using coordinates of the stops data from the directory C:\\Users\\PiotrGrabysz\\Documents\\PythonScripts\\NYPD\\final-assignment_test_installation\\data\\timetables\\stops_coord.json\n",
      "\n",
      "Looking for locations were 50.0 km/h is exceeded...\n",
      "You chose round_to as 2 so the map is divided into rectangles of the size 1.112 km height and 0.685 km width.\n",
      "\n",
      "Five locations with the biggest percent of buses exceeding the speed:\n",
      "lat    lon      exceeding %\n",
      "52.17, 21.09    100% \n",
      "52.11, 20.95    100% \n",
      "52.1, 20.95    100% \n",
      "52.05, 20.96    100% \n",
      "52.14, 21.09    100% \n"
     ]
    }
   ],
   "source": [
    "! run_data_analysis --speed_locations -db ../final_assignment_data/busestrams_05_02_filtered"
   ]
  },
  {
   "cell_type": "markdown",
   "id": "novel-point",
   "metadata": {},
   "source": [
    "As you can see, in all of those places all the buses run with the speed greater than 50km/h all the time. But these locations lies at the outskirts of Warsaw (more precisely they lie in Błonia Wilanowskie, Lesznowola and Piaseczno) so it is likely that the speed restriction is higher than 50 km/h and the the stops are spread more rarely, so the buses don't have to stop often.\n",
    "\n",
    "So I come up with an idea to pay attention only to the locations lying in (more or less) centre of Warsaw. The user can define the parameter --radius. Only the locations lying in a radius smaller than radius from the point [52.23213243754829, 21.0060709762026] (the Palace of Science and Culture) are considered."
   ]
  },
  {
   "cell_type": "code",
   "execution_count": 47,
   "id": "requested-organic",
   "metadata": {},
   "outputs": [
    {
     "name": "stdout",
     "output_type": "stream",
     "text": [
      "Using buses data from the directory C:\\Users\\PiotrGrabysz\\Documents\\PythonScripts\\NYPD\\final-assignment_test_installation\\..\\final_assignment_data\\busestrams_05_02_filtered\n",
      "Using timetables data from the directory C:\\Users\\PiotrGrabysz\\Documents\\PythonScripts\\NYPD\\final-assignment_test_installation\\data\\timetables\n",
      "Using coordinates of the stops data from the directory C:\\Users\\PiotrGrabysz\\Documents\\PythonScripts\\NYPD\\final-assignment_test_installation\\data\\timetables\\stops_coord.json\n",
      "\n",
      "Looking for locations were 50.0 km/h is exceeded...\n",
      "You chose round_to as 2 so the map is divided into rectangles of the size 1.112 km height and 0.685 km width.\n",
      "\n",
      "Five locations with the biggest percent of buses exceeding the speed:\n",
      "lat    lon      exceeding %\n",
      "52.19, 20.92    81% \n",
      "52.29, 20.99    73% \n",
      "52.21, 21.09    71% \n",
      "52.3, 21.0    60% \n",
      "52.2, 21.06    57% \n"
     ]
    }
   ],
   "source": [
    "! run_data_analysis --speed_locations \\\n",
    "-db ../final_assignment_data/busestrams_05_02_filtered \\\n",
    "--radius 8."
   ]
  },
  {
   "cell_type": "markdown",
   "id": "efficient-penetration",
   "metadata": {},
   "source": [
    "81% still seem to be high. But the location 52.19, 20.92 lies at the Trasa Salomea-Wolica, where the cars drive very fast.\n",
    "\n",
    "#### Visualization on the map\n",
    "\n",
    "The much easier way to talk about places where the speed is exceeded is to show those places on the map. I found that folium package can to this. \n",
    "\n",
    "run_data_analysis --speed_locations apart from printing some info also save the locations and the corresponding number of exceeding times into binary file \"./speed_exceeded_pickle\". It can be loaded again and used by the folium package. Please, specify the threshold to show the locations where the exceeded % is greater than the threshold."
   ]
  },
  {
   "cell_type": "code",
   "execution_count": 37,
   "id": "featured-techno",
   "metadata": {},
   "outputs": [],
   "source": [
    "# !pip install folium\n",
    "\n",
    "import folium\n",
    "import pickle\n",
    "\n",
    "thres = 0.3\n",
    "radius = 10."
   ]
  },
  {
   "cell_type": "code",
   "execution_count": 44,
   "id": "timely-flour",
   "metadata": {},
   "outputs": [
    {
     "data": {
      "text/html": [
       "<div style=\"width:100%;\"><div style=\"position:relative;width:100%;height:0;padding-bottom:60%;\"><span style=\"color:#565656\">Make this Notebook Trusted to load map: File -> Trust Notebook</span><iframe src=\"about:blank\" style=\"position:absolute;width:100%;height:100%;left:0;top:0;border:none !important;\" data-html=%3C%21DOCTYPE%20html%3E%0A%3Chead%3E%20%20%20%20%0A%20%20%20%20%3Cmeta%20http-equiv%3D%22content-type%22%20content%3D%22text/html%3B%20charset%3DUTF-8%22%20/%3E%0A%20%20%20%20%0A%20%20%20%20%20%20%20%20%3Cscript%3E%0A%20%20%20%20%20%20%20%20%20%20%20%20L_NO_TOUCH%20%3D%20false%3B%0A%20%20%20%20%20%20%20%20%20%20%20%20L_DISABLE_3D%20%3D%20false%3B%0A%20%20%20%20%20%20%20%20%3C/script%3E%0A%20%20%20%20%0A%20%20%20%20%3Cscript%20src%3D%22https%3A//cdn.jsdelivr.net/npm/leaflet%401.5.1/dist/leaflet.js%22%3E%3C/script%3E%0A%20%20%20%20%3Cscript%20src%3D%22https%3A//code.jquery.com/jquery-1.12.4.min.js%22%3E%3C/script%3E%0A%20%20%20%20%3Cscript%20src%3D%22https%3A//maxcdn.bootstrapcdn.com/bootstrap/3.2.0/js/bootstrap.min.js%22%3E%3C/script%3E%0A%20%20%20%20%3Cscript%20src%3D%22https%3A//cdnjs.cloudflare.com/ajax/libs/Leaflet.awesome-markers/2.0.2/leaflet.awesome-markers.js%22%3E%3C/script%3E%0A%20%20%20%20%3Clink%20rel%3D%22stylesheet%22%20href%3D%22https%3A//cdn.jsdelivr.net/npm/leaflet%401.5.1/dist/leaflet.css%22/%3E%0A%20%20%20%20%3Clink%20rel%3D%22stylesheet%22%20href%3D%22https%3A//maxcdn.bootstrapcdn.com/bootstrap/3.2.0/css/bootstrap.min.css%22/%3E%0A%20%20%20%20%3Clink%20rel%3D%22stylesheet%22%20href%3D%22https%3A//maxcdn.bootstrapcdn.com/bootstrap/3.2.0/css/bootstrap-theme.min.css%22/%3E%0A%20%20%20%20%3Clink%20rel%3D%22stylesheet%22%20href%3D%22https%3A//maxcdn.bootstrapcdn.com/font-awesome/4.6.3/css/font-awesome.min.css%22/%3E%0A%20%20%20%20%3Clink%20rel%3D%22stylesheet%22%20href%3D%22https%3A//cdnjs.cloudflare.com/ajax/libs/Leaflet.awesome-markers/2.0.2/leaflet.awesome-markers.css%22/%3E%0A%20%20%20%20%3Clink%20rel%3D%22stylesheet%22%20href%3D%22https%3A//rawcdn.githack.com/python-visualization/folium/master/folium/templates/leaflet.awesome.rotate.css%22/%3E%0A%20%20%20%20%3Cstyle%3Ehtml%2C%20body%20%7Bwidth%3A%20100%25%3Bheight%3A%20100%25%3Bmargin%3A%200%3Bpadding%3A%200%3B%7D%3C/style%3E%0A%20%20%20%20%3Cstyle%3E%23map%20%7Bposition%3Aabsolute%3Btop%3A0%3Bbottom%3A0%3Bright%3A0%3Bleft%3A0%3B%7D%3C/style%3E%0A%20%20%20%20%0A%20%20%20%20%20%20%20%20%20%20%20%20%3Cmeta%20name%3D%22viewport%22%20content%3D%22width%3Ddevice-width%2C%0A%20%20%20%20%20%20%20%20%20%20%20%20%20%20%20%20initial-scale%3D1.0%2C%20maximum-scale%3D1.0%2C%20user-scalable%3Dno%22%20/%3E%0A%20%20%20%20%20%20%20%20%20%20%20%20%3Cstyle%3E%0A%20%20%20%20%20%20%20%20%20%20%20%20%20%20%20%20%23map_30aae1edd17c4b0ba823ad09d337108c%20%7B%0A%20%20%20%20%20%20%20%20%20%20%20%20%20%20%20%20%20%20%20%20position%3A%20relative%3B%0A%20%20%20%20%20%20%20%20%20%20%20%20%20%20%20%20%20%20%20%20width%3A%20100.0%25%3B%0A%20%20%20%20%20%20%20%20%20%20%20%20%20%20%20%20%20%20%20%20height%3A%20100.0%25%3B%0A%20%20%20%20%20%20%20%20%20%20%20%20%20%20%20%20%20%20%20%20left%3A%200.0%25%3B%0A%20%20%20%20%20%20%20%20%20%20%20%20%20%20%20%20%20%20%20%20top%3A%200.0%25%3B%0A%20%20%20%20%20%20%20%20%20%20%20%20%20%20%20%20%7D%0A%20%20%20%20%20%20%20%20%20%20%20%20%3C/style%3E%0A%20%20%20%20%20%20%20%20%0A%3C/head%3E%0A%3Cbody%3E%20%20%20%20%0A%20%20%20%20%0A%20%20%20%20%20%20%20%20%20%20%20%20%3Cdiv%20class%3D%22folium-map%22%20id%3D%22map_30aae1edd17c4b0ba823ad09d337108c%22%20%3E%3C/div%3E%0A%20%20%20%20%20%20%20%20%0A%3C/body%3E%0A%3Cscript%3E%20%20%20%20%0A%20%20%20%20%0A%20%20%20%20%20%20%20%20%20%20%20%20var%20map_30aae1edd17c4b0ba823ad09d337108c%20%3D%20L.map%28%0A%20%20%20%20%20%20%20%20%20%20%20%20%20%20%20%20%22map_30aae1edd17c4b0ba823ad09d337108c%22%2C%0A%20%20%20%20%20%20%20%20%20%20%20%20%20%20%20%20%7B%0A%20%20%20%20%20%20%20%20%20%20%20%20%20%20%20%20%20%20%20%20center%3A%20%5B52.23213243754829%2C%2021.0060709762026%5D%2C%0A%20%20%20%20%20%20%20%20%20%20%20%20%20%20%20%20%20%20%20%20crs%3A%20L.CRS.EPSG3857%2C%0A%20%20%20%20%20%20%20%20%20%20%20%20%20%20%20%20%20%20%20%20zoom%3A%2011%2C%0A%20%20%20%20%20%20%20%20%20%20%20%20%20%20%20%20%20%20%20%20zoomControl%3A%20true%2C%0A%20%20%20%20%20%20%20%20%20%20%20%20%20%20%20%20%20%20%20%20preferCanvas%3A%20false%2C%0A%20%20%20%20%20%20%20%20%20%20%20%20%20%20%20%20%7D%0A%20%20%20%20%20%20%20%20%20%20%20%20%29%3B%0A%0A%20%20%20%20%20%20%20%20%20%20%20%20%0A%0A%20%20%20%20%20%20%20%20%0A%20%20%20%20%0A%20%20%20%20%20%20%20%20%20%20%20%20var%20tile_layer_6b98f1122e4f4645b3f2acfd9fd270b6%20%3D%20L.tileLayer%28%0A%20%20%20%20%20%20%20%20%20%20%20%20%20%20%20%20%22https%3A//%7Bs%7D.tile.openstreetmap.org/%7Bz%7D/%7Bx%7D/%7By%7D.png%22%2C%0A%20%20%20%20%20%20%20%20%20%20%20%20%20%20%20%20%7B%22attribution%22%3A%20%22Data%20by%20%5Cu0026copy%3B%20%5Cu003ca%20href%3D%5C%22http%3A//openstreetmap.org%5C%22%5Cu003eOpenStreetMap%5Cu003c/a%5Cu003e%2C%20under%20%5Cu003ca%20href%3D%5C%22http%3A//www.openstreetmap.org/copyright%5C%22%5Cu003eODbL%5Cu003c/a%5Cu003e.%22%2C%20%22detectRetina%22%3A%20false%2C%20%22maxNativeZoom%22%3A%2018%2C%20%22maxZoom%22%3A%2018%2C%20%22minZoom%22%3A%200%2C%20%22noWrap%22%3A%20false%2C%20%22opacity%22%3A%201%2C%20%22subdomains%22%3A%20%22abc%22%2C%20%22tms%22%3A%20false%7D%0A%20%20%20%20%20%20%20%20%20%20%20%20%29.addTo%28map_30aae1edd17c4b0ba823ad09d337108c%29%3B%0A%20%20%20%20%20%20%20%20%0A%20%20%20%20%0A%20%20%20%20%20%20%20%20%20%20%20%20var%20marker_41918eda828e4d2caffbefa9b98dc951%20%3D%20L.marker%28%0A%20%20%20%20%20%20%20%20%20%20%20%20%20%20%20%20%5B52.23213243754829%2C%2021.0060709762026%5D%2C%0A%20%20%20%20%20%20%20%20%20%20%20%20%20%20%20%20%7B%7D%0A%20%20%20%20%20%20%20%20%20%20%20%20%29.addTo%28map_30aae1edd17c4b0ba823ad09d337108c%29%3B%0A%20%20%20%20%20%20%20%20%0A%20%20%20%20%0A%20%20%20%20%20%20%20%20%20%20%20%20var%20icon_a56ca6f2bf4840a5aae54ba7c6c02dd8%20%3D%20L.AwesomeMarkers.icon%28%0A%20%20%20%20%20%20%20%20%20%20%20%20%20%20%20%20%7B%22extraClasses%22%3A%20%22fa-rotate-0%22%2C%20%22icon%22%3A%20%22info-sign%22%2C%20%22iconColor%22%3A%20%22white%22%2C%20%22markerColor%22%3A%20%22red%22%2C%20%22prefix%22%3A%20%22glyphicon%22%7D%0A%20%20%20%20%20%20%20%20%20%20%20%20%29%3B%0A%20%20%20%20%20%20%20%20%20%20%20%20marker_41918eda828e4d2caffbefa9b98dc951.setIcon%28icon_a56ca6f2bf4840a5aae54ba7c6c02dd8%29%3B%0A%20%20%20%20%20%20%20%20%0A%20%20%20%20%0A%20%20%20%20%20%20%20%20%20%20%20%20marker_41918eda828e4d2caffbefa9b98dc951.bindTooltip%28%0A%20%20%20%20%20%20%20%20%20%20%20%20%20%20%20%20%60%3Cdiv%3E%0A%20%20%20%20%20%20%20%20%20%20%20%20%20%20%20%20%20%20%20%20%20centre%0A%20%20%20%20%20%20%20%20%20%20%20%20%20%20%20%20%20%3C/div%3E%60%2C%0A%20%20%20%20%20%20%20%20%20%20%20%20%20%20%20%20%7B%22sticky%22%3A%20true%7D%0A%20%20%20%20%20%20%20%20%20%20%20%20%29%3B%0A%20%20%20%20%20%20%20%20%0A%20%20%20%20%0A%20%20%20%20%20%20%20%20%20%20%20%20var%20marker_1583bfdda8344cf79b2333e93222e9fb%20%3D%20L.marker%28%0A%20%20%20%20%20%20%20%20%20%20%20%20%20%20%20%20%5B52.3%2C%2020.95%5D%2C%0A%20%20%20%20%20%20%20%20%20%20%20%20%20%20%20%20%7B%7D%0A%20%20%20%20%20%20%20%20%20%20%20%20%29.addTo%28map_30aae1edd17c4b0ba823ad09d337108c%29%3B%0A%20%20%20%20%20%20%20%20%0A%20%20%20%20%0A%20%20%20%20%20%20%20%20%20%20%20%20marker_1583bfdda8344cf79b2333e93222e9fb.bindTooltip%28%0A%20%20%20%20%20%20%20%20%20%20%20%20%20%20%20%20%60%3Cdiv%3E%0A%20%20%20%20%20%20%20%20%20%20%20%20%20%20%20%20%20%20%20%20%20%2852.3%2C%2020.95%29%20%3A%2050%25%0A%20%20%20%20%20%20%20%20%20%20%20%20%20%20%20%20%20%3C/div%3E%60%2C%0A%20%20%20%20%20%20%20%20%20%20%20%20%20%20%20%20%7B%22sticky%22%3A%20true%7D%0A%20%20%20%20%20%20%20%20%20%20%20%20%29%3B%0A%20%20%20%20%20%20%20%20%0A%20%20%20%20%0A%20%20%20%20%20%20%20%20%20%20%20%20var%20marker_ed933a09d3de416aa75dd8141c0f1034%20%3D%20L.marker%28%0A%20%20%20%20%20%20%20%20%20%20%20%20%20%20%20%20%5B52.29%2C%2021.01%5D%2C%0A%20%20%20%20%20%20%20%20%20%20%20%20%20%20%20%20%7B%7D%0A%20%20%20%20%20%20%20%20%20%20%20%20%29.addTo%28map_30aae1edd17c4b0ba823ad09d337108c%29%3B%0A%20%20%20%20%20%20%20%20%0A%20%20%20%20%0A%20%20%20%20%20%20%20%20%20%20%20%20marker_ed933a09d3de416aa75dd8141c0f1034.bindTooltip%28%0A%20%20%20%20%20%20%20%20%20%20%20%20%20%20%20%20%60%3Cdiv%3E%0A%20%20%20%20%20%20%20%20%20%20%20%20%20%20%20%20%20%20%20%20%20%2852.29%2C%2021.01%29%20%3A%2031%25%0A%20%20%20%20%20%20%20%20%20%20%20%20%20%20%20%20%20%3C/div%3E%60%2C%0A%20%20%20%20%20%20%20%20%20%20%20%20%20%20%20%20%7B%22sticky%22%3A%20true%7D%0A%20%20%20%20%20%20%20%20%20%20%20%20%29%3B%0A%20%20%20%20%20%20%20%20%0A%20%20%20%20%0A%20%20%20%20%20%20%20%20%20%20%20%20var%20marker_bc5f7ba45629485d8a2ef8a893aac999%20%3D%20L.marker%28%0A%20%20%20%20%20%20%20%20%20%20%20%20%20%20%20%20%5B52.2%2C%2021.08%5D%2C%0A%20%20%20%20%20%20%20%20%20%20%20%20%20%20%20%20%7B%7D%0A%20%20%20%20%20%20%20%20%20%20%20%20%29.addTo%28map_30aae1edd17c4b0ba823ad09d337108c%29%3B%0A%20%20%20%20%20%20%20%20%0A%20%20%20%20%0A%20%20%20%20%20%20%20%20%20%20%20%20marker_bc5f7ba45629485d8a2ef8a893aac999.bindTooltip%28%0A%20%20%20%20%20%20%20%20%20%20%20%20%20%20%20%20%60%3Cdiv%3E%0A%20%20%20%20%20%20%20%20%20%20%20%20%20%20%20%20%20%20%20%20%20%2852.2%2C%2021.08%29%20%3A%2041%25%0A%20%20%20%20%20%20%20%20%20%20%20%20%20%20%20%20%20%3C/div%3E%60%2C%0A%20%20%20%20%20%20%20%20%20%20%20%20%20%20%20%20%7B%22sticky%22%3A%20true%7D%0A%20%20%20%20%20%20%20%20%20%20%20%20%29%3B%0A%20%20%20%20%20%20%20%20%0A%20%20%20%20%0A%20%20%20%20%20%20%20%20%20%20%20%20var%20marker_df46a871b1194588bcf378f5dba21476%20%3D%20L.marker%28%0A%20%20%20%20%20%20%20%20%20%20%20%20%20%20%20%20%5B52.29%2C%2020.99%5D%2C%0A%20%20%20%20%20%20%20%20%20%20%20%20%20%20%20%20%7B%7D%0A%20%20%20%20%20%20%20%20%20%20%20%20%29.addTo%28map_30aae1edd17c4b0ba823ad09d337108c%29%3B%0A%20%20%20%20%20%20%20%20%0A%20%20%20%20%0A%20%20%20%20%20%20%20%20%20%20%20%20marker_df46a871b1194588bcf378f5dba21476.bindTooltip%28%0A%20%20%20%20%20%20%20%20%20%20%20%20%20%20%20%20%60%3Cdiv%3E%0A%20%20%20%20%20%20%20%20%20%20%20%20%20%20%20%20%20%20%20%20%20%2852.29%2C%2020.99%29%20%3A%2073%25%0A%20%20%20%20%20%20%20%20%20%20%20%20%20%20%20%20%20%3C/div%3E%60%2C%0A%20%20%20%20%20%20%20%20%20%20%20%20%20%20%20%20%7B%22sticky%22%3A%20true%7D%0A%20%20%20%20%20%20%20%20%20%20%20%20%29%3B%0A%20%20%20%20%20%20%20%20%0A%20%20%20%20%0A%20%20%20%20%20%20%20%20%20%20%20%20var%20marker_d971b6ed3b8c4bfbbb83745a1fb1691b%20%3D%20L.marker%28%0A%20%20%20%20%20%20%20%20%20%20%20%20%20%20%20%20%5B52.28%2C%2020.99%5D%2C%0A%20%20%20%20%20%20%20%20%20%20%20%20%20%20%20%20%7B%7D%0A%20%20%20%20%20%20%20%20%20%20%20%20%29.addTo%28map_30aae1edd17c4b0ba823ad09d337108c%29%3B%0A%20%20%20%20%20%20%20%20%0A%20%20%20%20%0A%20%20%20%20%20%20%20%20%20%20%20%20marker_d971b6ed3b8c4bfbbb83745a1fb1691b.bindTooltip%28%0A%20%20%20%20%20%20%20%20%20%20%20%20%20%20%20%20%60%3Cdiv%3E%0A%20%20%20%20%20%20%20%20%20%20%20%20%20%20%20%20%20%20%20%20%20%2852.28%2C%2020.99%29%20%3A%2046%25%0A%20%20%20%20%20%20%20%20%20%20%20%20%20%20%20%20%20%3C/div%3E%60%2C%0A%20%20%20%20%20%20%20%20%20%20%20%20%20%20%20%20%7B%22sticky%22%3A%20true%7D%0A%20%20%20%20%20%20%20%20%20%20%20%20%29%3B%0A%20%20%20%20%20%20%20%20%0A%20%20%20%20%0A%20%20%20%20%20%20%20%20%20%20%20%20var%20marker_430efa8c5ff24fea816bc18196d3a122%20%3D%20L.marker%28%0A%20%20%20%20%20%20%20%20%20%20%20%20%20%20%20%20%5B52.19%2C%2021.04%5D%2C%0A%20%20%20%20%20%20%20%20%20%20%20%20%20%20%20%20%7B%7D%0A%20%20%20%20%20%20%20%20%20%20%20%20%29.addTo%28map_30aae1edd17c4b0ba823ad09d337108c%29%3B%0A%20%20%20%20%20%20%20%20%0A%20%20%20%20%0A%20%20%20%20%20%20%20%20%20%20%20%20marker_430efa8c5ff24fea816bc18196d3a122.bindTooltip%28%0A%20%20%20%20%20%20%20%20%20%20%20%20%20%20%20%20%60%3Cdiv%3E%0A%20%20%20%20%20%20%20%20%20%20%20%20%20%20%20%20%20%20%20%20%20%2852.19%2C%2021.04%29%20%3A%2032%25%0A%20%20%20%20%20%20%20%20%20%20%20%20%20%20%20%20%20%3C/div%3E%60%2C%0A%20%20%20%20%20%20%20%20%20%20%20%20%20%20%20%20%7B%22sticky%22%3A%20true%7D%0A%20%20%20%20%20%20%20%20%20%20%20%20%29%3B%0A%20%20%20%20%20%20%20%20%0A%20%20%20%20%0A%20%20%20%20%20%20%20%20%20%20%20%20var%20marker_11836c14c1c94600b2582ddc4b5c7172%20%3D%20L.marker%28%0A%20%20%20%20%20%20%20%20%20%20%20%20%20%20%20%20%5B52.2%2C%2021.06%5D%2C%0A%20%20%20%20%20%20%20%20%20%20%20%20%20%20%20%20%7B%7D%0A%20%20%20%20%20%20%20%20%20%20%20%20%29.addTo%28map_30aae1edd17c4b0ba823ad09d337108c%29%3B%0A%20%20%20%20%20%20%20%20%0A%20%20%20%20%0A%20%20%20%20%20%20%20%20%20%20%20%20marker_11836c14c1c94600b2582ddc4b5c7172.bindTooltip%28%0A%20%20%20%20%20%20%20%20%20%20%20%20%20%20%20%20%60%3Cdiv%3E%0A%20%20%20%20%20%20%20%20%20%20%20%20%20%20%20%20%20%20%20%20%20%2852.2%2C%2021.06%29%20%3A%2057%25%0A%20%20%20%20%20%20%20%20%20%20%20%20%20%20%20%20%20%3C/div%3E%60%2C%0A%20%20%20%20%20%20%20%20%20%20%20%20%20%20%20%20%7B%22sticky%22%3A%20true%7D%0A%20%20%20%20%20%20%20%20%20%20%20%20%29%3B%0A%20%20%20%20%20%20%20%20%0A%20%20%20%20%0A%20%20%20%20%20%20%20%20%20%20%20%20var%20marker_23cc7b726ff94ef784641d2e2fc54679%20%3D%20L.marker%28%0A%20%20%20%20%20%20%20%20%20%20%20%20%20%20%20%20%5B52.21%2C%2021.09%5D%2C%0A%20%20%20%20%20%20%20%20%20%20%20%20%20%20%20%20%7B%7D%0A%20%20%20%20%20%20%20%20%20%20%20%20%29.addTo%28map_30aae1edd17c4b0ba823ad09d337108c%29%3B%0A%20%20%20%20%20%20%20%20%0A%20%20%20%20%0A%20%20%20%20%20%20%20%20%20%20%20%20marker_23cc7b726ff94ef784641d2e2fc54679.bindTooltip%28%0A%20%20%20%20%20%20%20%20%20%20%20%20%20%20%20%20%60%3Cdiv%3E%0A%20%20%20%20%20%20%20%20%20%20%20%20%20%20%20%20%20%20%20%20%20%2852.21%2C%2021.09%29%20%3A%2071%25%0A%20%20%20%20%20%20%20%20%20%20%20%20%20%20%20%20%20%3C/div%3E%60%2C%0A%20%20%20%20%20%20%20%20%20%20%20%20%20%20%20%20%7B%22sticky%22%3A%20true%7D%0A%20%20%20%20%20%20%20%20%20%20%20%20%29%3B%0A%20%20%20%20%20%20%20%20%0A%20%20%20%20%0A%20%20%20%20%20%20%20%20%20%20%20%20var%20marker_8d5ec707122a40b78a12b11a2577001b%20%3D%20L.marker%28%0A%20%20%20%20%20%20%20%20%20%20%20%20%20%20%20%20%5B52.19%2C%2020.93%5D%2C%0A%20%20%20%20%20%20%20%20%20%20%20%20%20%20%20%20%7B%7D%0A%20%20%20%20%20%20%20%20%20%20%20%20%29.addTo%28map_30aae1edd17c4b0ba823ad09d337108c%29%3B%0A%20%20%20%20%20%20%20%20%0A%20%20%20%20%0A%20%20%20%20%20%20%20%20%20%20%20%20marker_8d5ec707122a40b78a12b11a2577001b.bindTooltip%28%0A%20%20%20%20%20%20%20%20%20%20%20%20%20%20%20%20%60%3Cdiv%3E%0A%20%20%20%20%20%20%20%20%20%20%20%20%20%20%20%20%20%20%20%20%20%2852.19%2C%2020.93%29%20%3A%2036%25%0A%20%20%20%20%20%20%20%20%20%20%20%20%20%20%20%20%20%3C/div%3E%60%2C%0A%20%20%20%20%20%20%20%20%20%20%20%20%20%20%20%20%7B%22sticky%22%3A%20true%7D%0A%20%20%20%20%20%20%20%20%20%20%20%20%29%3B%0A%20%20%20%20%20%20%20%20%0A%20%20%20%20%0A%20%20%20%20%20%20%20%20%20%20%20%20var%20marker_90c2f3d944dd4273aa4e7723bf467cbf%20%3D%20L.marker%28%0A%20%20%20%20%20%20%20%20%20%20%20%20%20%20%20%20%5B52.17%2C%2021.09%5D%2C%0A%20%20%20%20%20%20%20%20%20%20%20%20%20%20%20%20%7B%7D%0A%20%20%20%20%20%20%20%20%20%20%20%20%29.addTo%28map_30aae1edd17c4b0ba823ad09d337108c%29%3B%0A%20%20%20%20%20%20%20%20%0A%20%20%20%20%0A%20%20%20%20%20%20%20%20%20%20%20%20marker_90c2f3d944dd4273aa4e7723bf467cbf.bindTooltip%28%0A%20%20%20%20%20%20%20%20%20%20%20%20%20%20%20%20%60%3Cdiv%3E%0A%20%20%20%20%20%20%20%20%20%20%20%20%20%20%20%20%20%20%20%20%20%2852.17%2C%2021.09%29%20%3A%20100%25%0A%20%20%20%20%20%20%20%20%20%20%20%20%20%20%20%20%20%3C/div%3E%60%2C%0A%20%20%20%20%20%20%20%20%20%20%20%20%20%20%20%20%7B%22sticky%22%3A%20true%7D%0A%20%20%20%20%20%20%20%20%20%20%20%20%29%3B%0A%20%20%20%20%20%20%20%20%0A%20%20%20%20%0A%20%20%20%20%20%20%20%20%20%20%20%20var%20marker_62ca12d150b64eb8bee849bb9a87e157%20%3D%20L.marker%28%0A%20%20%20%20%20%20%20%20%20%20%20%20%20%20%20%20%5B52.26%2C%2021.12%5D%2C%0A%20%20%20%20%20%20%20%20%20%20%20%20%20%20%20%20%7B%7D%0A%20%20%20%20%20%20%20%20%20%20%20%20%29.addTo%28map_30aae1edd17c4b0ba823ad09d337108c%29%3B%0A%20%20%20%20%20%20%20%20%0A%20%20%20%20%0A%20%20%20%20%20%20%20%20%20%20%20%20marker_62ca12d150b64eb8bee849bb9a87e157.bindTooltip%28%0A%20%20%20%20%20%20%20%20%20%20%20%20%20%20%20%20%60%3Cdiv%3E%0A%20%20%20%20%20%20%20%20%20%20%20%20%20%20%20%20%20%20%20%20%20%2852.26%2C%2021.12%29%20%3A%2060%25%0A%20%20%20%20%20%20%20%20%20%20%20%20%20%20%20%20%20%3C/div%3E%60%2C%0A%20%20%20%20%20%20%20%20%20%20%20%20%20%20%20%20%7B%22sticky%22%3A%20true%7D%0A%20%20%20%20%20%20%20%20%20%20%20%20%29%3B%0A%20%20%20%20%20%20%20%20%0A%20%20%20%20%0A%20%20%20%20%20%20%20%20%20%20%20%20var%20marker_c816edebf930455592489e29bd86e150%20%3D%20L.marker%28%0A%20%20%20%20%20%20%20%20%20%20%20%20%20%20%20%20%5B52.28%2C%2021.01%5D%2C%0A%20%20%20%20%20%20%20%20%20%20%20%20%20%20%20%20%7B%7D%0A%20%20%20%20%20%20%20%20%20%20%20%20%29.addTo%28map_30aae1edd17c4b0ba823ad09d337108c%29%3B%0A%20%20%20%20%20%20%20%20%0A%20%20%20%20%0A%20%20%20%20%20%20%20%20%20%20%20%20marker_c816edebf930455592489e29bd86e150.bindTooltip%28%0A%20%20%20%20%20%20%20%20%20%20%20%20%20%20%20%20%60%3Cdiv%3E%0A%20%20%20%20%20%20%20%20%20%20%20%20%20%20%20%20%20%20%20%20%20%2852.28%2C%2021.01%29%20%3A%2034%25%0A%20%20%20%20%20%20%20%20%20%20%20%20%20%20%20%20%20%3C/div%3E%60%2C%0A%20%20%20%20%20%20%20%20%20%20%20%20%20%20%20%20%7B%22sticky%22%3A%20true%7D%0A%20%20%20%20%20%20%20%20%20%20%20%20%29%3B%0A%20%20%20%20%20%20%20%20%0A%20%20%20%20%0A%20%20%20%20%20%20%20%20%20%20%20%20var%20marker_b2be933437bb483694ff6325735939d8%20%3D%20L.marker%28%0A%20%20%20%20%20%20%20%20%20%20%20%20%20%20%20%20%5B52.32%2C%2020.99%5D%2C%0A%20%20%20%20%20%20%20%20%20%20%20%20%20%20%20%20%7B%7D%0A%20%20%20%20%20%20%20%20%20%20%20%20%29.addTo%28map_30aae1edd17c4b0ba823ad09d337108c%29%3B%0A%20%20%20%20%20%20%20%20%0A%20%20%20%20%0A%20%20%20%20%20%20%20%20%20%20%20%20marker_b2be933437bb483694ff6325735939d8.bindTooltip%28%0A%20%20%20%20%20%20%20%20%20%20%20%20%20%20%20%20%60%3Cdiv%3E%0A%20%20%20%20%20%20%20%20%20%20%20%20%20%20%20%20%20%20%20%20%20%2852.32%2C%2020.99%29%20%3A%2033%25%0A%20%20%20%20%20%20%20%20%20%20%20%20%20%20%20%20%20%3C/div%3E%60%2C%0A%20%20%20%20%20%20%20%20%20%20%20%20%20%20%20%20%7B%22sticky%22%3A%20true%7D%0A%20%20%20%20%20%20%20%20%20%20%20%20%29%3B%0A%20%20%20%20%20%20%20%20%0A%20%20%20%20%0A%20%20%20%20%20%20%20%20%20%20%20%20var%20marker_16b7c48daa8641d9a046af511b4e6944%20%3D%20L.marker%28%0A%20%20%20%20%20%20%20%20%20%20%20%20%20%20%20%20%5B52.19%2C%2020.92%5D%2C%0A%20%20%20%20%20%20%20%20%20%20%20%20%20%20%20%20%7B%7D%0A%20%20%20%20%20%20%20%20%20%20%20%20%29.addTo%28map_30aae1edd17c4b0ba823ad09d337108c%29%3B%0A%20%20%20%20%20%20%20%20%0A%20%20%20%20%0A%20%20%20%20%20%20%20%20%20%20%20%20marker_16b7c48daa8641d9a046af511b4e6944.bindTooltip%28%0A%20%20%20%20%20%20%20%20%20%20%20%20%20%20%20%20%60%3Cdiv%3E%0A%20%20%20%20%20%20%20%20%20%20%20%20%20%20%20%20%20%20%20%20%20%2852.19%2C%2020.92%29%20%3A%2081%25%0A%20%20%20%20%20%20%20%20%20%20%20%20%20%20%20%20%20%3C/div%3E%60%2C%0A%20%20%20%20%20%20%20%20%20%20%20%20%20%20%20%20%7B%22sticky%22%3A%20true%7D%0A%20%20%20%20%20%20%20%20%20%20%20%20%29%3B%0A%20%20%20%20%20%20%20%20%0A%20%20%20%20%0A%20%20%20%20%20%20%20%20%20%20%20%20var%20marker_e6973f5d241a46d08206d4e9814ed150%20%3D%20L.marker%28%0A%20%20%20%20%20%20%20%20%20%20%20%20%20%20%20%20%5B52.3%2C%2020.91%5D%2C%0A%20%20%20%20%20%20%20%20%20%20%20%20%20%20%20%20%7B%7D%0A%20%20%20%20%20%20%20%20%20%20%20%20%29.addTo%28map_30aae1edd17c4b0ba823ad09d337108c%29%3B%0A%20%20%20%20%20%20%20%20%0A%20%20%20%20%0A%20%20%20%20%20%20%20%20%20%20%20%20marker_e6973f5d241a46d08206d4e9814ed150.bindTooltip%28%0A%20%20%20%20%20%20%20%20%20%20%20%20%20%20%20%20%60%3Cdiv%3E%0A%20%20%20%20%20%20%20%20%20%20%20%20%20%20%20%20%20%20%20%20%20%2852.3%2C%2020.91%29%20%3A%2071%25%0A%20%20%20%20%20%20%20%20%20%20%20%20%20%20%20%20%20%3C/div%3E%60%2C%0A%20%20%20%20%20%20%20%20%20%20%20%20%20%20%20%20%7B%22sticky%22%3A%20true%7D%0A%20%20%20%20%20%20%20%20%20%20%20%20%29%3B%0A%20%20%20%20%20%20%20%20%0A%20%20%20%20%0A%20%20%20%20%20%20%20%20%20%20%20%20var%20marker_90c83ca09c574b24867fd4bb4192a093%20%3D%20L.marker%28%0A%20%20%20%20%20%20%20%20%20%20%20%20%20%20%20%20%5B52.31%2C%2020.94%5D%2C%0A%20%20%20%20%20%20%20%20%20%20%20%20%20%20%20%20%7B%7D%0A%20%20%20%20%20%20%20%20%20%20%20%20%29.addTo%28map_30aae1edd17c4b0ba823ad09d337108c%29%3B%0A%20%20%20%20%20%20%20%20%0A%20%20%20%20%0A%20%20%20%20%20%20%20%20%20%20%20%20marker_90c83ca09c574b24867fd4bb4192a093.bindTooltip%28%0A%20%20%20%20%20%20%20%20%20%20%20%20%20%20%20%20%60%3Cdiv%3E%0A%20%20%20%20%20%20%20%20%20%20%20%20%20%20%20%20%20%20%20%20%20%2852.31%2C%2020.94%29%20%3A%2050%25%0A%20%20%20%20%20%20%20%20%20%20%20%20%20%20%20%20%20%3C/div%3E%60%2C%0A%20%20%20%20%20%20%20%20%20%20%20%20%20%20%20%20%7B%22sticky%22%3A%20true%7D%0A%20%20%20%20%20%20%20%20%20%20%20%20%29%3B%0A%20%20%20%20%20%20%20%20%0A%20%20%20%20%0A%20%20%20%20%20%20%20%20%20%20%20%20var%20marker_f35fa4daaf1041ebab270714798f43be%20%3D%20L.marker%28%0A%20%20%20%20%20%20%20%20%20%20%20%20%20%20%20%20%5B52.3%2C%2021.0%5D%2C%0A%20%20%20%20%20%20%20%20%20%20%20%20%20%20%20%20%7B%7D%0A%20%20%20%20%20%20%20%20%20%20%20%20%29.addTo%28map_30aae1edd17c4b0ba823ad09d337108c%29%3B%0A%20%20%20%20%20%20%20%20%0A%20%20%20%20%0A%20%20%20%20%20%20%20%20%20%20%20%20marker_f35fa4daaf1041ebab270714798f43be.bindTooltip%28%0A%20%20%20%20%20%20%20%20%20%20%20%20%20%20%20%20%60%3Cdiv%3E%0A%20%20%20%20%20%20%20%20%20%20%20%20%20%20%20%20%20%20%20%20%20%2852.3%2C%2021.0%29%20%3A%2060%25%0A%20%20%20%20%20%20%20%20%20%20%20%20%20%20%20%20%20%3C/div%3E%60%2C%0A%20%20%20%20%20%20%20%20%20%20%20%20%20%20%20%20%7B%22sticky%22%3A%20true%7D%0A%20%20%20%20%20%20%20%20%20%20%20%20%29%3B%0A%20%20%20%20%20%20%20%20%0A%20%20%20%20%0A%20%20%20%20%20%20%20%20%20%20%20%20var%20marker_4e517d1ac13a45499cf3b9a69ccc9c70%20%3D%20L.marker%28%0A%20%20%20%20%20%20%20%20%20%20%20%20%20%20%20%20%5B52.21%2C%2020.87%5D%2C%0A%20%20%20%20%20%20%20%20%20%20%20%20%20%20%20%20%7B%7D%0A%20%20%20%20%20%20%20%20%20%20%20%20%29.addTo%28map_30aae1edd17c4b0ba823ad09d337108c%29%3B%0A%20%20%20%20%20%20%20%20%0A%20%20%20%20%0A%20%20%20%20%20%20%20%20%20%20%20%20marker_4e517d1ac13a45499cf3b9a69ccc9c70.bindTooltip%28%0A%20%20%20%20%20%20%20%20%20%20%20%20%20%20%20%20%60%3Cdiv%3E%0A%20%20%20%20%20%20%20%20%20%20%20%20%20%20%20%20%20%20%20%20%20%2852.21%2C%2020.87%29%20%3A%2031%25%0A%20%20%20%20%20%20%20%20%20%20%20%20%20%20%20%20%20%3C/div%3E%60%2C%0A%20%20%20%20%20%20%20%20%20%20%20%20%20%20%20%20%7B%22sticky%22%3A%20true%7D%0A%20%20%20%20%20%20%20%20%20%20%20%20%29%3B%0A%20%20%20%20%20%20%20%20%0A%20%20%20%20%0A%20%20%20%20%20%20%20%20%20%20%20%20var%20marker_89b1fb9b513f49e8bbb633ce3ca63693%20%3D%20L.marker%28%0A%20%20%20%20%20%20%20%20%20%20%20%20%20%20%20%20%5B52.22%2C%2021.12%5D%2C%0A%20%20%20%20%20%20%20%20%20%20%20%20%20%20%20%20%7B%7D%0A%20%20%20%20%20%20%20%20%20%20%20%20%29.addTo%28map_30aae1edd17c4b0ba823ad09d337108c%29%3B%0A%20%20%20%20%20%20%20%20%0A%20%20%20%20%0A%20%20%20%20%20%20%20%20%20%20%20%20marker_89b1fb9b513f49e8bbb633ce3ca63693.bindTooltip%28%0A%20%20%20%20%20%20%20%20%20%20%20%20%20%20%20%20%60%3Cdiv%3E%0A%20%20%20%20%20%20%20%20%20%20%20%20%20%20%20%20%20%20%20%20%20%2852.22%2C%2021.12%29%20%3A%2050%25%0A%20%20%20%20%20%20%20%20%20%20%20%20%20%20%20%20%20%3C/div%3E%60%2C%0A%20%20%20%20%20%20%20%20%20%20%20%20%20%20%20%20%7B%22sticky%22%3A%20true%7D%0A%20%20%20%20%20%20%20%20%20%20%20%20%29%3B%0A%20%20%20%20%20%20%20%20%0A%20%20%20%20%0A%20%20%20%20%20%20%20%20%20%20%20%20var%20marker_976c6624e420487791162c0802ec0749%20%3D%20L.marker%28%0A%20%20%20%20%20%20%20%20%20%20%20%20%20%20%20%20%5B52.31%2C%2020.95%5D%2C%0A%20%20%20%20%20%20%20%20%20%20%20%20%20%20%20%20%7B%7D%0A%20%20%20%20%20%20%20%20%20%20%20%20%29.addTo%28map_30aae1edd17c4b0ba823ad09d337108c%29%3B%0A%20%20%20%20%20%20%20%20%0A%20%20%20%20%0A%20%20%20%20%20%20%20%20%20%20%20%20marker_976c6624e420487791162c0802ec0749.bindTooltip%28%0A%20%20%20%20%20%20%20%20%20%20%20%20%20%20%20%20%60%3Cdiv%3E%0A%20%20%20%20%20%20%20%20%20%20%20%20%20%20%20%20%20%20%20%20%20%2852.31%2C%2020.95%29%20%3A%2093%25%0A%20%20%20%20%20%20%20%20%20%20%20%20%20%20%20%20%20%3C/div%3E%60%2C%0A%20%20%20%20%20%20%20%20%20%20%20%20%20%20%20%20%7B%22sticky%22%3A%20true%7D%0A%20%20%20%20%20%20%20%20%20%20%20%20%29%3B%0A%20%20%20%20%20%20%20%20%0A%20%20%20%20%0A%20%20%20%20%20%20%20%20%20%20%20%20var%20marker_52dc10a0b4904510b5c2d0a37632b351%20%3D%20L.marker%28%0A%20%20%20%20%20%20%20%20%20%20%20%20%20%20%20%20%5B52.3%2C%2021.07%5D%2C%0A%20%20%20%20%20%20%20%20%20%20%20%20%20%20%20%20%7B%7D%0A%20%20%20%20%20%20%20%20%20%20%20%20%29.addTo%28map_30aae1edd17c4b0ba823ad09d337108c%29%3B%0A%20%20%20%20%20%20%20%20%0A%20%20%20%20%0A%20%20%20%20%20%20%20%20%20%20%20%20marker_52dc10a0b4904510b5c2d0a37632b351.bindTooltip%28%0A%20%20%20%20%20%20%20%20%20%20%20%20%20%20%20%20%60%3Cdiv%3E%0A%20%20%20%20%20%20%20%20%20%20%20%20%20%20%20%20%20%20%20%20%20%2852.3%2C%2021.07%29%20%3A%2033%25%0A%20%20%20%20%20%20%20%20%20%20%20%20%20%20%20%20%20%3C/div%3E%60%2C%0A%20%20%20%20%20%20%20%20%20%20%20%20%20%20%20%20%7B%22sticky%22%3A%20true%7D%0A%20%20%20%20%20%20%20%20%20%20%20%20%29%3B%0A%20%20%20%20%20%20%20%20%0A%20%20%20%20%0A%20%20%20%20%20%20%20%20%20%20%20%20var%20marker_0976e309cf8a4bd88c098d6efdb905d4%20%3D%20L.marker%28%0A%20%20%20%20%20%20%20%20%20%20%20%20%20%20%20%20%5B52.17%2C%2020.91%5D%2C%0A%20%20%20%20%20%20%20%20%20%20%20%20%20%20%20%20%7B%7D%0A%20%20%20%20%20%20%20%20%20%20%20%20%29.addTo%28map_30aae1edd17c4b0ba823ad09d337108c%29%3B%0A%20%20%20%20%20%20%20%20%0A%20%20%20%20%0A%20%20%20%20%20%20%20%20%20%20%20%20marker_0976e309cf8a4bd88c098d6efdb905d4.bindTooltip%28%0A%20%20%20%20%20%20%20%20%20%20%20%20%20%20%20%20%60%3Cdiv%3E%0A%20%20%20%20%20%20%20%20%20%20%20%20%20%20%20%20%20%20%20%20%20%2852.17%2C%2020.91%29%20%3A%20100%25%0A%20%20%20%20%20%20%20%20%20%20%20%20%20%20%20%20%20%3C/div%3E%60%2C%0A%20%20%20%20%20%20%20%20%20%20%20%20%20%20%20%20%7B%22sticky%22%3A%20true%7D%0A%20%20%20%20%20%20%20%20%20%20%20%20%29%3B%0A%20%20%20%20%20%20%20%20%0A%20%20%20%20%0A%20%20%20%20%20%20%20%20%20%20%20%20var%20marker_5d3bd4cf2da747199500078bc915701f%20%3D%20L.marker%28%0A%20%20%20%20%20%20%20%20%20%20%20%20%20%20%20%20%5B52.23%2C%2020.87%5D%2C%0A%20%20%20%20%20%20%20%20%20%20%20%20%20%20%20%20%7B%7D%0A%20%20%20%20%20%20%20%20%20%20%20%20%29.addTo%28map_30aae1edd17c4b0ba823ad09d337108c%29%3B%0A%20%20%20%20%20%20%20%20%0A%20%20%20%20%0A%20%20%20%20%20%20%20%20%20%20%20%20marker_5d3bd4cf2da747199500078bc915701f.bindTooltip%28%0A%20%20%20%20%20%20%20%20%20%20%20%20%20%20%20%20%60%3Cdiv%3E%0A%20%20%20%20%20%20%20%20%20%20%20%20%20%20%20%20%20%20%20%20%20%2852.23%2C%2020.87%29%20%3A%2062%25%0A%20%20%20%20%20%20%20%20%20%20%20%20%20%20%20%20%20%3C/div%3E%60%2C%0A%20%20%20%20%20%20%20%20%20%20%20%20%20%20%20%20%7B%22sticky%22%3A%20true%7D%0A%20%20%20%20%20%20%20%20%20%20%20%20%29%3B%0A%20%20%20%20%20%20%20%20%0A%3C/script%3E onload=\"this.contentDocument.open();this.contentDocument.write(    decodeURIComponent(this.getAttribute('data-html')));this.contentDocument.close();\" allowfullscreen webkitallowfullscreen mozallowfullscreen></iframe></div></div>"
      ],
      "text/plain": [
       "<folium.folium.Map at 0x19964cb54f0>"
      ]
     },
     "execution_count": 44,
     "metadata": {},
     "output_type": "execute_result"
    }
   ],
   "source": [
    "with open(\"./speed_exceeded_pickle\", \"rb\") as f:\n",
    "    exceeding_locations_dict = pickle.load(f)\n",
    "    \n",
    "Warsaw_centre = [52.23213243754829, 21.0060709762026]\n",
    "Warsaw_map=folium.Map(location=Warsaw_centre, zoom_start = 11)\n",
    "folium.Marker(location=Warsaw_centre, tooltip=\"centre\",\n",
    "              icon=folium.Icon(color='red')).add_to(Warsaw_map)\n",
    "\n",
    "for loc, counts in exceeding_locations_dict.items():\n",
    "    if dist(Warsaw_centre[0], Warsaw_centre[1], loc[0], loc[1]) < radius:\n",
    "        exceeding_percent = counts[1] / counts[0]\n",
    "        if exceeding_percent > thres:\n",
    "            folium.Marker(location=[loc[0], loc[1]],\n",
    "                          tooltip=f\"{loc} : {100*exceeding_percent:.0f}%\").add_to(Warsaw_map)\n",
    "# Show the map\n",
    "Warsaw_map"
   ]
  },
  {
   "cell_type": "markdown",
   "id": "medieval-dietary",
   "metadata": {},
   "source": [
    "The map above shows all the locations up to 10 km from Warsaw centre where to percent of exceeding times is greater than 30%. As you can see these places lie in Warsaw surroundings near the fast ways like S8 or S2 which is reasonable."
   ]
  },
  {
   "cell_type": "markdown",
   "id": "handed-steel",
   "metadata": {},
   "source": [
    "## Analysis of buses punctuality\n",
    "\n",
    "After dowloading the timetables as described in \"collect_data sample usage.ipynb\" I have an access to when and where each **brigade** should arrive. I could analyze if any bus of the given line has arrived at the stop at the time it should which means there could be no observed delay if the bus was so delayed that it land in the schedule of its subsequent bus.\n",
    "\n",
    "I want to take another approach and anylyze the delays \"brigade-wise\". To see when the brigade arrived at the stop I would like to find the timestamp when the the brigade was closest the this stop. But if during the time of collecting the data this brigade went back to the final stop **and returned**, then it might passed this stop twice. To ensure that the timestamp of the closest timestamp is the right one I redefine the notion of \"closeness\" and add some time penalty to it. Let $x_{bus}$ be the bus position and $t_{bus}$ the corresponding timestamp and $x_{stop}$ the position of the stop, $t_{stop}$ the time when the bus should arrive at this stop. Then the distance between the bus and the stop is:\n",
    "\n",
    "\\begin{equation}\n",
    "dist_{new} = dist(x_{bus}, x_{stop}) + \\alpha \\cdot |t_{bus} - t_{stop}|\n",
    "\\end{equation}\n",
    "\n",
    "Where $dist()$ is the normal distance in space (I use the haversine distance) and $\\alpha$ is a weight describing the time difference impact (it is set to 0.001 by default).\n",
    "\n",
    "The idea to calculate the delay of each brigade is as follows:\n",
    "\n",
    "+ get the brigade's schedule: position of each stop the brigade goes to and the time when this brigade should arrive at this stop\n",
    "\n",
    "+ remove from the schedule rows with time of arrival earlier than the earliest time brigade's timestamp and later then the latest brigade's timestamp (if you collect the buses data from 15:00 to 16:00, consider only those in the schedule)\n",
    "\n",
    "+ for each stop find the bus $(x_{bus}^{*}, t_{bus}^{*})$ minimizing the $dist_{new}$ from the stop. Once this position is found, estimate the time needed to reach the stop from this position as follows:\n",
    "    \\begin{equation}\n",
    "        delay = t_{bus}^{*} - t_{stop} + \\frac{dist(x_{bus}^{*}, x_{stop})}{v_{max}}\n",
    "    \\end{equation}\n",
    "    \n",
    "    $\\frac{dist(x_{bus}^{*}, x_{stop})}{v_{max}}$ estimats the time needed the reach the stop (at location $x_{stop}$ from the bus position $x_{bus}$. $v_{max}$ is set to 40 km/h meaning that I assume that the bus goes with 40 km/h speed around the stop. It is just an naive assumption but I wanted to tackle somehow (the often) situation when the bus reports its position closely to the stop, but not excactly at the stop.\n",
    "\n",
    "To do punctuality analysis, please run the command run_data_analysis with the flat --punctuality and these parameters:\n",
    "\n",
    "> --dir_to_busestrams DIR_TO_BUSESTRAMS, -db DIR_TO_BUSESTRAMS\n",
    "                    \n",
    "                    The directory with the busestrams data.\n",
    "> --dir_to_timetables DIR_TO_TIMETABLES, -dt DIR_TO_TIMETABLES\n",
    "                    \n",
    "                    The directory where the files with timetables are\n",
    "                    stored.\n",
    "> --dir_to_stops_coord DIR_TO_STOPS_COORD, -ds DIR_TO_STOPS_COORD\n",
    "                    \n",
    "                    The name of the file with bus stops coordinates.\n"
   ]
  },
  {
   "cell_type": "code",
   "execution_count": 57,
   "id": "later-antigua",
   "metadata": {},
   "outputs": [
    {
     "name": "stdout",
     "output_type": "stream",
     "text": [
      "Using buses data from the directory C:\\Users\\PiotrGrabysz\\Documents\\PythonScripts\\NYPD\\final-assignment_test_installation\\..\\final_assignment_data\\busestrams_05_02_filtered\n",
      "Using timetables data from the directory C:\\Users\\PiotrGrabysz\\Documents\\PythonScripts\\NYPD\\final-assignment_test_installation\\..\\final_assignment_data\\timetables_05_02\n",
      "Using coordinates of the stops data from the directory C:\\Users\\PiotrGrabysz\\Documents\\PythonScripts\\NYPD\\final-assignment_test_installation\\..\\final_assignment_data\\timetables_05_02\\stops_coord.json\n",
      "\n",
      "Starts calculating delays...\n",
      "It might take a while...\n",
      "\n",
      "Delays statistics:\n",
      "--------------------\n",
      "Mean delay is: 0 minutes and 50 seconds.\n",
      "Percent of times when the bus is on time or its delay is at most one minute: 40%\n",
      "Percent of delays longer than one minute: 59%.\n",
      "Percent of delays longer than five minute: 55%.\n",
      "The longest found delay is: 37 minutes and 38 seconds.\n",
      "--------------------\n"
     ]
    }
   ],
   "source": [
    "! run_data_analysis --punctuality \\\n",
    "-db ../final_assignment_data/busestrams_05_02_filtered \\\n",
    "-dt ../final_assignment_data/timetables_05_02 \\\n",
    "-ds ../final_assignment_data/timetables_05_02/stops_coord.json"
   ]
  }
 ],
 "metadata": {
  "kernelspec": {
   "display_name": "Python 3",
   "language": "python",
   "name": "python3"
  },
  "language_info": {
   "codemirror_mode": {
    "name": "ipython",
    "version": 3
   },
   "file_extension": ".py",
   "mimetype": "text/x-python",
   "name": "python",
   "nbconvert_exporter": "python",
   "pygments_lexer": "ipython3",
   "version": "3.8.5"
  }
 },
 "nbformat": 4,
 "nbformat_minor": 5
}
