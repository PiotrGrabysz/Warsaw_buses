{
 "cells": [
  {
   "cell_type": "code",
   "execution_count": 14,
   "id": "champion-germany",
   "metadata": {},
   "outputs": [
    {
     "name": "stdout",
     "output_type": "stream",
     "text": [
      "The autoreload extension is already loaded. To reload it, use:\n",
      "  %reload_ext autoreload\n",
      "Obtaining file:///C:/Users/PiotrGrabysz/Documents/PythonScripts/NYPD/final-assignment\n",
      "Installing collected packages: Warsaw-buses\n",
      "  Attempting uninstall: Warsaw-buses\n",
      "    Found existing installation: Warsaw-buses 0.0.1\n",
      "    Uninstalling Warsaw-buses-0.0.1:\n",
      "      Successfully uninstalled Warsaw-buses-0.0.1\n",
      "  Running setup.py develop for Warsaw-buses\n",
      "Successfully installed Warsaw-buses\n"
     ]
    }
   ],
   "source": [
    "%load_ext autoreload\n",
    "%autoreload 2\n",
    "\n",
    "!pip install -e ../final-assignment/\n",
    "\n",
    "import pandas as pd"
   ]
  },
  {
   "cell_type": "code",
   "execution_count": 25,
   "id": "living-binding",
   "metadata": {},
   "outputs": [
    {
     "data": {
      "text/plain": [
       "'1.19.2'"
      ]
     },
     "execution_count": 25,
     "metadata": {},
     "output_type": "execute_result"
    }
   ],
   "source": [
    "import numpy \n",
    "numpy.__version__"
   ]
  },
  {
   "cell_type": "markdown",
   "id": "congressional-mexico",
   "metadata": {},
   "source": [
    "## Collecting the buses data\n",
    "\n",
    "Lets download some buses data. The single record of such data consists of line number, brigade number, vehicle number, latitude, longitude and timestamp.\n",
    "\n",
    "To download it, please use the command `collect_buses`. There are several parameters to specify:"
   ]
  },
  {
   "cell_type": "code",
   "execution_count": 2,
   "id": "developmental-nowhere",
   "metadata": {},
   "outputs": [
    {
     "name": "stdout",
     "output_type": "stream",
     "text": [
      "usage: collect_buses [-h] [--dir_to_save DIR_TO_SAVE] [--time_step TIME_STEP]\n",
      "                     [--how_long HOW_LONG]\n",
      "\n",
      "optional arguments:\n",
      "  -h, --help            show this help message and exit\n",
      "  --dir_to_save DIR_TO_SAVE, -d DIR_TO_SAVE\n",
      "                        A directory where the files with all the buses (or/and\n",
      "                        trams) will be stored.\n",
      "  --time_step TIME_STEP\n",
      "                        The website will be requested every time_step (in\n",
      "                        seconds) or longer, if processing and /saving the data\n",
      "                        takes more time than time_step.\n",
      "  --how_long HOW_LONG   For how long the request will be send to the website\n",
      "                        (in seconds).\n"
     ]
    }
   ],
   "source": [
    "!collect_buses --help"
   ]
  },
  {
   "cell_type": "markdown",
   "id": "confirmed-delay",
   "metadata": {},
   "source": [
    "Lets collect these data for one minute:"
   ]
  },
  {
   "cell_type": "code",
   "execution_count": 6,
   "id": "former-france",
   "metadata": {},
   "outputs": [
    {
     "name": "stdout",
     "output_type": "stream",
     "text": [
      "Collecting the buses data...\n",
      "Done! The buses data are saved in the directory: 'C:\\Users\\PiotrGrabysz\\Documents\\PythonScripts\\NYPD\\final-assignment_test_installation\\data\\buses_one_minute'\n"
     ]
    }
   ],
   "source": [
    "!collect_buses -d ./data/buses_one_minute --how_long 60.0"
   ]
  },
  {
   "cell_type": "markdown",
   "id": "pharmaceutical-liverpool",
   "metadata": {},
   "source": [
    "Every bus is saved in the separate file under the path: 'dir_to_save/line_number/brigade_number/vehicle_number.txt'."
   ]
  },
  {
   "cell_type": "code",
   "execution_count": 11,
   "id": "developmental-threat",
   "metadata": {},
   "outputs": [
    {
     "data": {
      "text/html": [
       "<div>\n",
       "<style scoped>\n",
       "    .dataframe tbody tr th:only-of-type {\n",
       "        vertical-align: middle;\n",
       "    }\n",
       "\n",
       "    .dataframe tbody tr th {\n",
       "        vertical-align: top;\n",
       "    }\n",
       "\n",
       "    .dataframe thead th {\n",
       "        text-align: right;\n",
       "    }\n",
       "</style>\n",
       "<table border=\"1\" class=\"dataframe\">\n",
       "  <thead>\n",
       "    <tr style=\"text-align: right;\">\n",
       "      <th></th>\n",
       "      <th>Lat</th>\n",
       "      <th>Lon</th>\n",
       "      <th>Time</th>\n",
       "    </tr>\n",
       "  </thead>\n",
       "  <tbody>\n",
       "    <tr>\n",
       "      <th>0</th>\n",
       "      <td>52.237041</td>\n",
       "      <td>21.018202</td>\n",
       "      <td>2021-02-20 17:57:40</td>\n",
       "    </tr>\n",
       "    <tr>\n",
       "      <th>1</th>\n",
       "      <td>52.237156</td>\n",
       "      <td>21.019157</td>\n",
       "      <td>2021-02-20 17:57:49</td>\n",
       "    </tr>\n",
       "    <tr>\n",
       "      <th>2</th>\n",
       "      <td>52.237194</td>\n",
       "      <td>21.019484</td>\n",
       "      <td>2021-02-20 17:58:02</td>\n",
       "    </tr>\n",
       "    <tr>\n",
       "      <th>3</th>\n",
       "      <td>52.237194</td>\n",
       "      <td>21.019503</td>\n",
       "      <td>2021-02-20 17:58:14</td>\n",
       "    </tr>\n",
       "    <tr>\n",
       "      <th>4</th>\n",
       "      <td>52.237263</td>\n",
       "      <td>21.019985</td>\n",
       "      <td>2021-02-20 17:58:24</td>\n",
       "    </tr>\n",
       "  </tbody>\n",
       "</table>\n",
       "</div>"
      ],
      "text/plain": [
       "         Lat        Lon                 Time\n",
       "0  52.237041  21.018202  2021-02-20 17:57:40\n",
       "1  52.237156  21.019157  2021-02-20 17:57:49\n",
       "2  52.237194  21.019484  2021-02-20 17:58:02\n",
       "3  52.237194  21.019503  2021-02-20 17:58:14\n",
       "4  52.237263  21.019985  2021-02-20 17:58:24"
      ]
     },
     "execution_count": 11,
     "metadata": {},
     "output_type": "execute_result"
    }
   ],
   "source": [
    "sample_bus = pd.read_csv(\"./data/buses_one_minute/102/1/9411.txt\", \n",
    "                        names=[\"Lat\", \"Lon\", \"Time\"])\n",
    "sample_bus.head()"
   ]
  },
  {
   "cell_type": "markdown",
   "id": "restricted-commons",
   "metadata": {},
   "source": [
    "## Collecting the timetables\n",
    "\n",
    "The api https://api.um.warszawa.pl provides three different type of data referring to timetables:\n",
    "\n",
    "+ stops. It consists of each stop latitude and longitude, street_id, direction, name, stop_id, stop_nr\n",
    "\n",
    "+ lines connected with the given stop. One should know stop_id and stop_nr to send this request\n",
    "\n",
    "+ schedule for the given line at the given stop. One should know stop_id, stop_nr and line number to send this request. This data consist of brigade number, scheduled time of arrival and some other infos I don't use\n",
    "\n",
    "My idea is to get the stops first (which I refer stops_coord to), iterate through every row of stops to get the numbers of lines going to this stop and then, get the schedule for every pair (stop, line). I save them in 'dir_to_timetables/line_number/stopId_stopNr.json'. Later on in the run_data_analysis I can easily create schedule of each brigade.\n",
    "\n",
    "The stops_coord are needed later and they are saved in 'dir_to_timetables/stops_coord.json'.\n",
    "\n",
    "But beware! Collecting all the timetables lasts for about two hours (there is nearly 8 000 stops, several lines are connected with each of them which results in tens of thousands requests)."
   ]
  },
  {
   "cell_type": "code",
   "execution_count": 15,
   "id": "arranged-destiny",
   "metadata": {},
   "outputs": [
    {
     "name": "stdout",
     "output_type": "stream",
     "text": [
      "usage: collect_timetables [-h] [--dir_to_save DIR_TO_SAVE] [--verbose]\n",
      "                          [--repeat_rows_file REPEAT_ROWS_FILE]\n",
      "                          [--resume_from_row RESUME_FROM_ROW]\n",
      "\n",
      "optional arguments:\n",
      "  -h, --help            show this help message and exit\n",
      "  --dir_to_save DIR_TO_SAVE, -d DIR_TO_SAVE\n",
      "                        A directory where all the timetables are stored in.\n",
      "  --verbose, -v         Prints the name of each stop it is processing.\n",
      "  --repeat_rows_file REPEAT_ROWS_FILE, -r REPEAT_ROWS_FILE\n",
      "                        The file informing which rows from stops_coord should\n",
      "                        be downloaded. For this version of the package please\n",
      "                        use the 'dir_to_save/errors_log.txt' file generated by\n",
      "                        collect_timetables. Defaults to None, which means that\n",
      "                        every stop is processed.\n",
      "  --resume_from_row RESUME_FROM_ROW, -r_row RESUME_FROM_ROW\n",
      "                        If the downloading broke after some row, you can\n",
      "                        resume downloading from this row. Defaults to 0.\n"
     ]
    }
   ],
   "source": [
    "!collect_timetables --help"
   ]
  },
  {
   "cell_type": "markdown",
   "id": "starting-botswana",
   "metadata": {},
   "source": [
    "If any request error happens during downloading, it's written into the 'dir_to_save/errors_log.txt' file with the information indicating at which row of stops_coord the error occured. You can use it later to download this missing data."
   ]
  }
 ],
 "metadata": {
  "kernelspec": {
   "display_name": "Python 3",
   "language": "python",
   "name": "python3"
  },
  "language_info": {
   "codemirror_mode": {
    "name": "ipython",
    "version": 3
   },
   "file_extension": ".py",
   "mimetype": "text/x-python",
   "name": "python",
   "nbconvert_exporter": "python",
   "pygments_lexer": "ipython3",
   "version": "3.8.5"
  }
 },
 "nbformat": 4,
 "nbformat_minor": 5
}
